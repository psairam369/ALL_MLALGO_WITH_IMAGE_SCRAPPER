{
 "metadata": {
  "language_info": {
   "codemirror_mode": {
    "name": "ipython",
    "version": 3
   },
   "file_extension": ".py",
   "mimetype": "text/x-python",
   "name": "python",
   "nbconvert_exporter": "python",
   "pygments_lexer": "ipython3",
   "version": "3.8.5-final"
  },
  "orig_nbformat": 2,
  "kernelspec": {
   "name": "python38532bit2d2d0afd1fd24431a208ca7429c9ded5",
   "display_name": "Python 3.8.5 32-bit"
  }
 },
 "nbformat": 4,
 "nbformat_minor": 2,
 "cells": [
  {
   "cell_type": "markdown",
   "metadata": {},
   "source": [
    "# ASSIGNMENT 3"
   ]
  },
  {
   "cell_type": "markdown",
   "metadata": {},
   "source": [
    "# 1.1 question"
   ]
  },
  {
   "cell_type": "code",
   "execution_count": 87,
   "metadata": {},
   "outputs": [],
   "source": [
    "def myreduce(g,h):\n",
    "    res=h[0]\n",
    "    for i in range(1,len(h)):\n",
    "        if(i<len(h)):\n",
    "          res=g(res,h[i])\n",
    "    yield res\n",
    "\n",
    "\n",
    "\n"
   ]
  },
  {
   "cell_type": "code",
   "execution_count": 88,
   "metadata": {
    "tags": []
   },
   "outputs": [
    {
     "output_type": "execute_result",
     "data": {
      "text/plain": "[10]"
     },
     "metadata": {},
     "execution_count": 88
    }
   ],
   "source": [
    "\n",
    "z=myreduce(lambda x,y:x+y,[1,2,3,4])\n",
    "list(z)"
   ]
  },
  {
   "cell_type": "markdown",
   "metadata": {},
   "source": [
    "# 1.2 question"
   ]
  },
  {
   "cell_type": "code",
   "execution_count": 41,
   "metadata": {},
   "outputs": [],
   "source": [
    "def myfilter(a,b):\n",
    "    for i in b:\n",
    "        if(a(i)==True):\n",
    "            yield i\n"
   ]
  },
  {
   "cell_type": "code",
   "execution_count": 42,
   "metadata": {
    "tags": []
   },
   "outputs": [
    {
     "output_type": "execute_result",
     "data": {
      "text/plain": "[2, 6, 8]"
     },
     "metadata": {},
     "execution_count": 42
    }
   ],
   "source": [
    "z=myfilter(lambda x:x%2==0,[1,2,3,5,6,7,8])\n",
    "list(z)"
   ]
  },
  {
   "cell_type": "markdown",
   "metadata": {},
   "source": [
    "# 2 nd question"
   ]
  },
  {
   "cell_type": "code",
   "execution_count": 14,
   "metadata": {},
   "outputs": [
    {
     "output_type": "execute_result",
     "data": {
      "text/plain": "['x', 'xx', 'xxx', 'xxxx', 'y', 'yy', 'yyy', 'yyyy', 'z', 'zz', 'zzz', 'zzzz']"
     },
     "metadata": {},
     "execution_count": 14
    }
   ],
   "source": [
    "x=['x','y','z']\n",
    "b=[i*j for i in x for j in range(1,5)]\n",
    "b"
   ]
  },
  {
   "cell_type": "code",
   "execution_count": 11,
   "metadata": {},
   "outputs": [
    {
     "output_type": "execute_result",
     "data": {
      "text/plain": "['x', 'y', 'z', 'xx', 'yy', 'zz', 'xxx', 'yyy', 'zzz', 'xxxx', 'yyyy', 'zzzz']"
     },
     "metadata": {},
     "execution_count": 11
    }
   ],
   "source": [
    "d=[j*i for i in range (1,5) for j in x]\n",
    "d\n"
   ]
  },
  {
   "cell_type": "code",
   "execution_count": 12,
   "metadata": {},
   "outputs": [
    {
     "output_type": "execute_result",
     "data": {
      "text/plain": "[(1, 1), (1, 2), (1, 3), (2, 1), (2, 2), (2, 3), (3, 1), (3, 2), (3, 3)]"
     },
     "metadata": {},
     "execution_count": 12
    }
   ],
   "source": [
    "                              \n",
    "e=[(i,j) for i in range(1,4) for j in range(1,4)]\n",
    "e\n"
   ]
  },
  {
   "cell_type": "code",
   "execution_count": 13,
   "metadata": {
    "tags": []
   },
   "outputs": [
    {
     "output_type": "stream",
     "name": "stdout",
     "text": "[[[2], [3], [4]], [[3], [4], [5]], [[4], [5], [6]]] [[2, 3, 4, 5], [3, 4, 5, 6], [4, 5, 6, 7], [5, 6, 7, 8]]\n"
    }
   ],
   "source": [
    "q=[[[i],[i+1],[i+2]]  for i in range(2,5)  ]\n",
    "w=[[i,i+1,i+2,i+3]  for i in range(2,6)]\n",
    "print(q,w)"
   ]
  }
 ]
}
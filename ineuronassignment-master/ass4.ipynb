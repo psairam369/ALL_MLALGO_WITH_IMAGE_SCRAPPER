{
 "metadata": {
  "language_info": {
   "codemirror_mode": {
    "name": "ipython",
    "version": 3
   },
   "file_extension": ".py",
   "mimetype": "text/x-python",
   "name": "python",
   "nbconvert_exporter": "python",
   "pygments_lexer": "ipython3",
   "version": "3.8.5-final"
  },
  "orig_nbformat": 2,
  "kernelspec": {
   "name": "python38532bit2d2d0afd1fd24431a208ca7429c9ded5",
   "display_name": "Python 3.8.5 32-bit"
  }
 },
 "nbformat": 4,
 "nbformat_minor": 2,
 "cells": [
  {
   "cell_type": "markdown",
   "metadata": {
    "tags": []
   },
   "source": [
    "# ASSIGNMENT 4"
   ]
  },
  {
   "cell_type": "markdown",
   "metadata": {},
   "source": [
    "# 1.1"
   ]
  },
  {
   "cell_type": "code",
   "execution_count": 1,
   "metadata": {},
   "outputs": [],
   "source": [
    "class dimensions_triangle:\n",
    "  def __init__(self,a,b,c):\n",
    "         self.a=a\n",
    "         self.b=b\n",
    "         self.c=c\n",
    "class area(dimensions_triangle):\n",
    "     def __init__(self,*args):\n",
    "         super(area,self).__init__(*args)\n",
    "     def area_tri(self):\n",
    "         s=(self.a+self.b+self.c)/2\n",
    "         area=(s*(s-self.a)*(s-self.b)*(s-self.c))\n",
    "         return area\n",
    "         \n",
    "       "
   ]
  },
  {
   "cell_type": "markdown",
   "metadata": {},
   "source": [
    "# 1.2"
   ]
  },
  {
   "cell_type": "code",
   "execution_count": 2,
   "metadata": {},
   "outputs": [],
   "source": [
    "def filter_long_words(lis,n):\n",
    "    g=[i for i in lis if (len(i)>n)]\n",
    "    return g    \n",
    "        "
   ]
  },
  {
   "cell_type": "markdown",
   "metadata": {},
   "source": [
    "# 2.1"
   ]
  },
  {
   "cell_type": "code",
   "execution_count": 4,
   "metadata": {
    "tags": []
   },
   "outputs": [],
   "source": [
    "def ma(a): \n",
    "    \n",
    "    fun=lambda a:len(a)\n",
    "    t=list(map(fun,a))\n",
    "    print(t)\n",
    "\n"
   ]
  },
  {
   "cell_type": "markdown",
   "metadata": {},
   "source": [
    "# 2.2"
   ]
  },
  {
   "cell_type": "code",
   "execution_count": 6,
   "metadata": {},
   "outputs": [],
   "source": [
    "def isvowels(j):\n",
    "    if(j=='a' or j=='e' or j=='i' or j=='o' or j=='u'):\n",
    "             print(\"True\")\n",
    "    else:\n",
    "        print(\"False\")   "
   ]
  }
 ]
}
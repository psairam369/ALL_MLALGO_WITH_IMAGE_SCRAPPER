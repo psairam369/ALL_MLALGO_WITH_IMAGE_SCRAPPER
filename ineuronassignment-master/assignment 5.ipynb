{
 "metadata": {
  "language_info": {
   "codemirror_mode": {
    "name": "ipython",
    "version": 3
   },
   "file_extension": ".py",
   "mimetype": "text/x-python",
   "name": "python",
   "nbconvert_exporter": "python",
   "pygments_lexer": "ipython3",
   "version": "3.8.2-final"
  },
  "orig_nbformat": 2,
  "kernelspec": {
   "name": "python38264bit9ed400389ca645e9b75d9e271c887594",
   "display_name": "Python 3.8.2 64-bit"
  }
 },
 "nbformat": 4,
 "nbformat_minor": 2,
 "cells": [
  {
   "cell_type": "markdown",
   "metadata": {},
   "source": [
    "# ASSIGNMENT 5"
   ]
  },
  {
   "cell_type": "markdown",
   "metadata": {},
   "source": [
    "1"
   ]
  },
  {
   "cell_type": "code",
   "execution_count": 2,
   "metadata": {
    "tags": []
   },
   "outputs": [
    {
     "output_type": "stream",
     "name": "stdout",
     "text": "integer division or modulo by zero\n"
    }
   ],
   "source": [
    "try:\n",
    "    5%0\n",
    "except Exception as e:\n",
    "    print(e)"
   ]
  },
  {
   "cell_type": "code",
   "execution_count": 3,
   "metadata": {},
   "outputs": [],
   "source": [
    "subjects=[\"Americans \",\"Indians\"]\n",
    "objects=[\"Baseball\",\"Cricket\"]\n",
    "verbs=[\"play\",\"watch\"]"
   ]
  },
  {
   "cell_type": "code",
   "execution_count": 8,
   "metadata": {
    "tags": []
   },
   "outputs": [
    {
     "output_type": "stream",
     "name": "stdout",
     "text": "Americans  play Baseball\nAmericans  play Cricket\nAmericans  watch Baseball\nAmericans  watch Cricket\nIndians play Baseball\nIndians play Cricket\nIndians watch Baseball\nIndians watch Cricket\n"
    }
   ],
   "source": [
    "   for i in subjects:\n",
    "       for j in verbs:\n",
    "           for k in objects:\n",
    "                print(i + \" \"+ j +\" \"+ k)"
   ]
  },
  {
   "cell_type": "code",
   "execution_count": null,
   "metadata": {},
   "outputs": [],
   "source": []
  }
 ]
}